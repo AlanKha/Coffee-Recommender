{
 "cells": [
  {
   "cell_type": "markdown",
   "metadata": {},
   "source": [
    "## Data Analasis\n",
    "---\n",
    "This notebook will explore the coffee bags from the dataset"
   ]
  },
  {
   "cell_type": "code",
   "execution_count": 2,
   "metadata": {},
   "outputs": [],
   "source": [
    "import pandas as pd\n",
    "df = pd.read_csv('data.csv')"
   ]
  },
  {
   "cell_type": "markdown",
   "metadata": {},
   "source": [
    "## Example data row\n",
    "---\n"
   ]
  },
  {
   "cell_type": "code",
   "execution_count": 8,
   "metadata": {},
   "outputs": [
    {
     "data": {
      "text/markdown": [
       "| title                              |   rating |   acidity_structure |   aftertaste |   aroma |   body |   flavor |   with_milk | agtron   | blind_assessment                                                                                                                                                                                                                                  | bottom_line                                                                                          | coffee_origin                         | est_price       | notes                                                                                                                                                                                                                                                                                                                                                                                                                                | review_date   | roast_level   | roaster              | roaster_location       | url                                                                     |\n",
       "|:-----------------------------------|---------:|--------------------:|-------------:|--------:|-------:|---------:|------------:|:---------|:--------------------------------------------------------------------------------------------------------------------------------------------------------------------------------------------------------------------------------------------------|:-----------------------------------------------------------------------------------------------------|:--------------------------------------|:----------------|:-------------------------------------------------------------------------------------------------------------------------------------------------------------------------------------------------------------------------------------------------------------------------------------------------------------------------------------------------------------------------------------------------------------------------------------|:--------------|:--------------|:---------------------|:-----------------------|:------------------------------------------------------------------------|\n",
       "| Tropical Summer Colombia La Sierra |       93 |                   9 |            8 |       9 |      8 |        9 |         nan | 60/77    | Fruit-driven, crisply chocolaty. Goji berry, dried plum, baking chocolate, amber, narcissus in aroma and cup. Crisply sweet structure with balanced acidity; lightly satiny mouthfeel. Fruit-toned finish supported by notes of baking chocolate. | An experimentally processed Colombia, sweetly fruit-forward with ballast from crisp chocolate notes. | La Sierra, Cauca Department, Colombia | $18.99/8 ounces | Produced by smallholding farmers from trees of the Castillo, Caturra, Pajarito, Tabi and Bourbon varieties of Arabica, and processed by the traditional washed method using species of lactic acid-producing yeast and bacteria during the fermentation step. Merge is a specialty coffee roaster in Harrisonburg, Virginia dedicated to ethical sourcing of high-quality coffees. Visit www.mergecoffeeco.com for more information. | November 2022 | Medium-Light  | Merge Coffee Company | Harrisonburg, Virginia | https://www.coffeereview.com/review/tropical-summer-colombia-la-sierra/ |"
      ],
      "text/plain": [
       "<IPython.core.display.Markdown object>"
      ]
     },
     "metadata": {},
     "output_type": "display_data"
    }
   ],
   "source": [
    "from IPython.display import display, Markdown\n",
    "\n",
    "example = 'Tropical Summer Colombia La Sierra'\n",
    "\n",
    "markdown_table = df.loc[df['title'] == example].to_markdown(index=False)\n",
    "display(Markdown(markdown_table))"
   ]
  }
 ],
 "metadata": {
  "kernelspec": {
   "display_name": "Python 3",
   "language": "python",
   "name": "python3"
  },
  "language_info": {
   "codemirror_mode": {
    "name": "ipython",
    "version": 3
   },
   "file_extension": ".py",
   "mimetype": "text/x-python",
   "name": "python",
   "nbconvert_exporter": "python",
   "pygments_lexer": "ipython3",
   "version": "3.9.6"
  }
 },
 "nbformat": 4,
 "nbformat_minor": 2
}
