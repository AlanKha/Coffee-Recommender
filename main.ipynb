{
 "cells": [
  {
   "cell_type": "markdown",
   "metadata": {},
   "source": [
    "## Data Analasis\n",
    "---\n",
    "This notebook will explore the coffee bags from the dataset"
   ]
  },
  {
   "cell_type": "code",
   "execution_count": 2,
   "metadata": {},
   "outputs": [],
   "source": [
    "import pandas as pd\n",
    "df = pd.read_csv('data.csv')"
   ]
  },
  {
   "cell_type": "markdown",
   "metadata": {},
   "source": [
    "## Example data row\n",
    "---\n"
   ]
  },
  {
   "cell_type": "markdown",
   "metadata": {},
   "source": [
    "Coffee bags can be found with their csv index or name"
   ]
  },
  {
   "cell_type": "code",
   "execution_count": 57,
   "metadata": {},
   "outputs": [
    {
     "data": {
      "text/markdown": [
       "|      | title             |   rating |   acidity_structure |   aftertaste |   aroma |   body |   flavor |   with_milk | agtron   | blind_assessment                                                                                                                                                                                                                                                                   | bottom_line                                                                                                | coffee_origin                  | est_price         | notes                                                                                                                                                                                                                                                                                                                                                                     | review_date   | roast_level   | roaster       | roaster_location   | url                                                   |\n",
       "|-----:|:------------------|---------:|--------------------:|-------------:|--------:|-------:|---------:|------------:|:---------|:-----------------------------------------------------------------------------------------------------------------------------------------------------------------------------------------------------------------------------------------------------------------------------------|:-----------------------------------------------------------------------------------------------------------|:-------------------------------|:------------------|:--------------------------------------------------------------------------------------------------------------------------------------------------------------------------------------------------------------------------------------------------------------------------------------------------------------------------------------------------------------------------|:--------------|:--------------|:--------------|:-------------------|:------------------------------------------------------|\n",
       "| 1472 | Kenya Wanjengi AA |       92 |                   8 |            8 |       9 |      8 |        9 |         nan | 50/70    | Richly sweet-savory, deep-toned. Date, hop flowers, maple syrup, cedar, cocoa nib in aroma and cup. Bittersweet structure with brisk acidity; full, lightly syrupy mouthfeel. Finish consolidates to cocoa-toned date in the short and cedar-like aromatic wood notes in the long. | A developed medium roast emphasizes this Kenya’s depth and amplifies its rich dried fruit and cocoa notes. | Murang'a County, central Kenya | NT $530/200 grams | Despite grower discontent and urban encroachment on prime coffee lands, Kenya continues to produce some of the world’s most elegant and distinctive coffees. Quartet Kaffe is an artisan roastery in Taiwan founded in 2018, dedicated to pursuing coffee performance art and offering unique specialty coffee. Visit www.facebook.com/QuartetKaffe for more information. | April 2020    | Medium        | Quartet Kaffe | Taipei, Taiwan     | https://www.coffeereview.com/review/kenya-thageini-2/ |"
      ],
      "text/plain": [
       "<IPython.core.display.Markdown object>"
      ]
     },
     "metadata": {},
     "output_type": "display_data"
    },
    {
     "data": {
      "text/markdown": [
       "|    | title                              |   rating |   acidity_structure |   aftertaste |   aroma |   body |   flavor |   with_milk | agtron   | blind_assessment                                                                                                                                                                                                                                  | bottom_line                                                                                          | coffee_origin                         | est_price       | notes                                                                                                                                                                                                                                                                                                                                                                                                                                | review_date   | roast_level   | roaster              | roaster_location       | url                                                                     |\n",
       "|---:|:-----------------------------------|---------:|--------------------:|-------------:|--------:|-------:|---------:|------------:|:---------|:--------------------------------------------------------------------------------------------------------------------------------------------------------------------------------------------------------------------------------------------------|:-----------------------------------------------------------------------------------------------------|:--------------------------------------|:----------------|:-------------------------------------------------------------------------------------------------------------------------------------------------------------------------------------------------------------------------------------------------------------------------------------------------------------------------------------------------------------------------------------------------------------------------------------|:--------------|:--------------|:---------------------|:-----------------------|:------------------------------------------------------------------------|\n",
       "|  4 | Tropical Summer Colombia La Sierra |       93 |                   9 |            8 |       9 |      8 |        9 |         nan | 60/77    | Fruit-driven, crisply chocolaty. Goji berry, dried plum, baking chocolate, amber, narcissus in aroma and cup. Crisply sweet structure with balanced acidity; lightly satiny mouthfeel. Fruit-toned finish supported by notes of baking chocolate. | An experimentally processed Colombia, sweetly fruit-forward with ballast from crisp chocolate notes. | La Sierra, Cauca Department, Colombia | $18.99/8 ounces | Produced by smallholding farmers from trees of the Castillo, Caturra, Pajarito, Tabi and Bourbon varieties of Arabica, and processed by the traditional washed method using species of lactic acid-producing yeast and bacteria during the fermentation step. Merge is a specialty coffee roaster in Harrisonburg, Virginia dedicated to ethical sourcing of high-quality coffees. Visit www.mergecoffeeco.com for more information. | November 2022 | Medium-Light  | Merge Coffee Company | Harrisonburg, Virginia | https://www.coffeereview.com/review/tropical-summer-colombia-la-sierra/ |"
      ],
      "text/plain": [
       "<IPython.core.display.Markdown object>"
      ]
     },
     "metadata": {},
     "output_type": "display_data"
    }
   ],
   "source": [
    "from IPython.display import display, Markdown\n",
    "import random\n",
    "\n",
    "# find by index\n",
    "example_1 = random.randrange(0, len(df))\n",
    "markdown_table = df.iloc[[example_1]].to_markdown()\n",
    "display(Markdown(markdown_table))\n",
    "\n",
    "# find by title\n",
    "example_2 = 'Tropical Summer Colombia La Sierra'\n",
    "markdown_table = df.loc[df['title'] == example_2].to_markdown()\n",
    "display(Markdown(markdown_table))"
   ]
  }
 ],
 "metadata": {
  "kernelspec": {
   "display_name": "Python 3",
   "language": "python",
   "name": "python3"
  },
  "language_info": {
   "codemirror_mode": {
    "name": "ipython",
    "version": 3
   },
   "file_extension": ".py",
   "mimetype": "text/x-python",
   "name": "python",
   "nbconvert_exporter": "python",
   "pygments_lexer": "ipython3",
   "version": "3.9.6"
  }
 },
 "nbformat": 4,
 "nbformat_minor": 2
}
