{
 "cells": [
  {
   "cell_type": "markdown",
   "metadata": {},
   "source": [
    "# Data Cleaning\n",
    "---\n",
    "this notebook will take the raw [Kaggle Data](https://www.kaggle.com/datasets/patkle/coffeereviewcom-over-7000-ratings-and-reviews) and clean it for the next notebook"
   ]
  },
  {
   "cell_type": "code",
   "execution_count": 2,
   "metadata": {},
   "outputs": [
    {
     "name": "stdout",
     "output_type": "stream",
     "text": [
      "Data cleaning complete. Cleaned data saved to 'cleaned_data.csv'\n"
     ]
    }
   ],
   "source": [
    "import pandas as pd\n",
    "import shutil\n",
    "\n",
    "# load the dataset\n",
    "df = pd.read_csv('../data/raw_data.csv')\n",
    "\n",
    "# preprocess numeric columns\n",
    "def preprocess_numeric_columns(df, numeric_columns):\n",
    "    for column in numeric_columns:\n",
    "        df[column] = pd.to_numeric(df[column], errors='coerce')\n",
    "    df = df.dropna(subset=numeric_columns)\n",
    "    return df\n",
    "\n",
    "# preprocess text columns\n",
    "def preprocess_text_column(df, text_column):\n",
    "    df[text_column] = df[text_column].fillna('')\n",
    "    return df\n",
    "\n",
    "numeric_columns = ['rating', 'acidity_structure', 'aftertaste', 'aroma', 'body', 'flavor']\n",
    "\n",
    "# preprocess numeric and text columns\n",
    "df = preprocess_numeric_columns(df, numeric_columns)\n",
    "df = preprocess_text_column(df, 'blind_assessment')\n",
    "\n",
    "# save the cleaned data to a new file and move to the data directory\n",
    "df.to_csv('cleaned_data.csv', index=False)\n",
    "shutil.move('cleaned_data.csv', '../data/cleaned_data.csv')\n",
    "print(\"Data cleaning complete. Cleaned data saved to 'cleaned_data.csv'\")"
   ]
  }
 ],
 "metadata": {
  "kernelspec": {
   "display_name": "Python 3",
   "language": "python",
   "name": "python3"
  },
  "language_info": {
   "codemirror_mode": {
    "name": "ipython",
    "version": 3
   },
   "file_extension": ".py",
   "mimetype": "text/x-python",
   "name": "python",
   "nbconvert_exporter": "python",
   "pygments_lexer": "ipython3",
   "version": "3.9.6"
  }
 },
 "nbformat": 4,
 "nbformat_minor": 2
}
