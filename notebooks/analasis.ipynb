{
 "cells": [
  {
   "cell_type": "markdown",
   "metadata": {},
   "source": [
    "# Data Analasis\n",
    "---\n",
    "This notebook will explore the coffee bags from the dataset"
   ]
  },
  {
   "cell_type": "code",
   "execution_count": 97,
   "metadata": {},
   "outputs": [],
   "source": [
    "import pandas as pd\n",
    "df = pd.read_csv('../data/cleaned_data.csv')"
   ]
  },
  {
   "cell_type": "markdown",
   "metadata": {},
   "source": [
    "## Example data row"
   ]
  },
  {
   "cell_type": "code",
   "execution_count": 98,
   "metadata": {},
   "outputs": [
    {
     "data": {
      "text/markdown": [
       "|     | title          |   rating |   acidity_structure |   aftertaste |   aroma |   body |   flavor |   with_milk | agtron   | blind_assessment                                                                                                                                                                                                    | bottom_line                                            | coffee_origin   | est_price        | notes                                                                                                                                                                                                                                                                                                                                                                                                              | review_date   | roast_level   | roaster     | roaster_location   | url                                                 |\n",
       "|----:|:---------------|---------:|--------------------:|-------------:|--------:|-------:|---------:|------------:|:---------|:--------------------------------------------------------------------------------------------------------------------------------------------------------------------------------------------------------------------|:-------------------------------------------------------|:----------------|:-----------------|:-------------------------------------------------------------------------------------------------------------------------------------------------------------------------------------------------------------------------------------------------------------------------------------------------------------------------------------------------------------------------------------------------------------------|:--------------|:--------------|:------------|:-------------------|:----------------------------------------------------|\n",
       "| 395 | Caribbean Blue |       92 |                   8 |            8 |       9 |      8 |        9 |         nan | 58/78    | Crisply sweet, nut-toned. Almond, cocoa powder, orange zest, magnolia, date in aroma and cup. Sweet in structure with round acidity; lightly satiny mouthfeel. Nut-toned finish with hints of orange zest and date. | A classic island cup: nutty-sweet with gentle acidity. | Dondon, Haiti   | $15.99/12 ounces | Produced entirely of the Blue Mountain and Typica varieties of Arabica and processed by the washed method (fruit skin and flesh are removed from the beans before they are dried). Certified organically grown. Cafe Kreyol is a roaster in Manassas, Virginia with the mission of creating sustainable employment by way of specialty coffee. Visit www.cafekreyol.com or call 571-719-7018 for more information. | February 2022 | Medium-Light  | Cafe Kreyol | Manassas, Virginia | https://www.coffeereview.com/review/caribbean-blue/ |"
      ],
      "text/plain": [
       "<IPython.core.display.Markdown object>"
      ]
     },
     "metadata": {},
     "output_type": "display_data"
    },
    {
     "data": {
      "text/markdown": [
       "|    | title                              |   rating |   acidity_structure |   aftertaste |   aroma |   body |   flavor |   with_milk | agtron   | blind_assessment                                                                                                                                                                                                                                  | bottom_line                                                                                          | coffee_origin                         | est_price       | notes                                                                                                                                                                                                                                                                                                                                                                                                                                | review_date   | roast_level   | roaster              | roaster_location       | url                                                                     |\n",
       "|---:|:-----------------------------------|---------:|--------------------:|-------------:|--------:|-------:|---------:|------------:|:---------|:--------------------------------------------------------------------------------------------------------------------------------------------------------------------------------------------------------------------------------------------------|:-----------------------------------------------------------------------------------------------------|:--------------------------------------|:----------------|:-------------------------------------------------------------------------------------------------------------------------------------------------------------------------------------------------------------------------------------------------------------------------------------------------------------------------------------------------------------------------------------------------------------------------------------|:--------------|:--------------|:---------------------|:-----------------------|:------------------------------------------------------------------------|\n",
       "|  4 | Tropical Summer Colombia La Sierra |       93 |                   9 |            8 |       9 |      8 |        9 |         nan | 60/77    | Fruit-driven, crisply chocolaty. Goji berry, dried plum, baking chocolate, amber, narcissus in aroma and cup. Crisply sweet structure with balanced acidity; lightly satiny mouthfeel. Fruit-toned finish supported by notes of baking chocolate. | An experimentally processed Colombia, sweetly fruit-forward with ballast from crisp chocolate notes. | La Sierra, Cauca Department, Colombia | $18.99/8 ounces | Produced by smallholding farmers from trees of the Castillo, Caturra, Pajarito, Tabi and Bourbon varieties of Arabica, and processed by the traditional washed method using species of lactic acid-producing yeast and bacteria during the fermentation step. Merge is a specialty coffee roaster in Harrisonburg, Virginia dedicated to ethical sourcing of high-quality coffees. Visit www.mergecoffeeco.com for more information. | November 2022 | Medium-Light  | Merge Coffee Company | Harrisonburg, Virginia | https://www.coffeereview.com/review/tropical-summer-colombia-la-sierra/ |"
      ],
      "text/plain": [
       "<IPython.core.display.Markdown object>"
      ]
     },
     "metadata": {},
     "output_type": "display_data"
    }
   ],
   "source": [
    "from IPython.display import display, Markdown\n",
    "import random\n",
    "\n",
    "# find by index\n",
    "example_1 = random.randrange(0, len(df))\n",
    "markdown_table = df.iloc[[example_1]].to_markdown()\n",
    "display(Markdown(markdown_table))\n",
    "\n",
    "# find by title\n",
    "example_2 = 'Tropical Summer Colombia La Sierra'\n",
    "markdown_table = df.loc[df['title'] == example_2].to_markdown()\n",
    "display(Markdown(markdown_table))"
   ]
  },
  {
   "cell_type": "markdown",
   "metadata": {},
   "source": [
    "## Finding new coffees using cosine similarity"
   ]
  },
  {
   "cell_type": "code",
   "execution_count": 99,
   "metadata": {},
   "outputs": [],
   "source": [
    "from sklearn.metrics.pairwise import cosine_similarity\n",
    "from sklearn.feature_extraction.text import TfidfVectorizer\n",
    "from sklearn.preprocessing import StandardScaler\n",
    "\n",
    "def recommend_coffees(title, k=5, method='numeric'):\n",
    "    if method not in ['numeric', 'text']:\n",
    "        raise ValueError(\"Method should be either 'numeric' or 'text'\")\n",
    "    \n",
    "    # numeric method\n",
    "    if method == 'numeric':\n",
    "        # select numeric columns\n",
    "        numeric_columns = ['rating', 'acidity_structure', 'aftertaste', 'aroma', 'body', 'flavor']\n",
    "        \n",
    "        # standardize the data\n",
    "        scaler = StandardScaler()\n",
    "        numeric_data_scaled = scaler.fit_transform(df[numeric_columns])\n",
    "        \n",
    "        # calculate cosine similarity using the numeric data\n",
    "        similarity_matrix = cosine_similarity(numeric_data_scaled)\n",
    "        \n",
    "    # text method\n",
    "    elif method == 'text':\n",
    "        # select the text column\n",
    "        text_data = df['blind_assessment']\n",
    "        \n",
    "        # vectorize the text data\n",
    "        vectorizer = TfidfVectorizer()\n",
    "        text_data_vectorized = vectorizer.fit_transform(text_data)\n",
    "        \n",
    "        # calculate cosine similarity\n",
    "        similarity_matrix = cosine_similarity(text_data_vectorized)\n",
    "    \n",
    "    # find the index of the input coffee\n",
    "    coffee_index = df[df['title'] == title].index[0]\n",
    "    \n",
    "    # get the similarity scores for the input coffee\n",
    "    similarity_scores = list(enumerate(similarity_matrix[coffee_index]))\n",
    "    \n",
    "    # sort by similarity scores\n",
    "    similarity_scores = sorted(similarity_scores, key=lambda x: x[1], reverse=True)\n",
    "    \n",
    "    # get the indices of the k most similar coffees, excluding the original coffee\n",
    "    similar_coffees_indices = [i[0] for i in similarity_scores if i[0] != coffee_index][:k]\n",
    "    \n",
    "    # return the DataFrame of the top k similar coffee bags\n",
    "    similar_coffees_df = df.iloc[similar_coffees_indices]\n",
    "    \n",
    "    print(f\"Top {k} similar coffees to '{title}' using {method} similarity:\")\n",
    "    return similar_coffees_df"
   ]
  },
  {
   "cell_type": "markdown",
   "metadata": {},
   "source": [
    "## Example Usage for numeric"
   ]
  },
  {
   "cell_type": "code",
   "execution_count": 100,
   "metadata": {},
   "outputs": [
    {
     "name": "stdout",
     "output_type": "stream",
     "text": [
      "Top 5 similar coffees to 'Tropical Summer Colombia La Sierra' using numeric similarity:\n",
      "1. Bolivia Manantial Gesha by Red Rooster Coffee Roaster\n",
      "2. Kenya AA by AKA Coffee Roasters\n",
      "3. Guatemala Los Santos by Temple Coffee\n",
      "4. Honeyed Floral by 1980 CAFE\n",
      "5. Philippines Sitio Belis Garnica by Mostra Coffee\n"
     ]
    }
   ],
   "source": [
    "recommended_coffees = recommend_coffees('Tropical Summer Colombia La Sierra', k=5, method='numeric')\n",
    "i = 1\n",
    "for row in recommended_coffees.iterrows():\n",
    "    print(f\"{i}. {row[1]['title']} by {row[1]['roaster']}\")\n",
    "    i += 1"
   ]
  },
  {
   "cell_type": "markdown",
   "metadata": {},
   "source": [
    "## Example usage for text"
   ]
  },
  {
   "cell_type": "code",
   "execution_count": 101,
   "metadata": {},
   "outputs": [
    {
     "name": "stdout",
     "output_type": "stream",
     "text": [
      "Top 5 similar coffees to 'Tropical Summer Colombia La Sierra' using text similarity:\n",
      "1. Ethiopia Guji Hambela Wate Natural G1 by Samlin Coffee\n",
      "2. Haraaz Red Yemen by JBC Coffee Roasters\n",
      "3. Zambia Mafinga Hills Natural by Jackrabbit Java\n",
      "4. Ethiopia Gedeb Chelchele Slow Dry Washed by Kafe Coffee Roastery\n",
      "5. Haraaz Red by JBC Coffee Roasters\n"
     ]
    }
   ],
   "source": [
    "recommended_coffees = recommend_coffees('Tropical Summer Colombia La Sierra', k=5, method='text')\n",
    "i = 1\n",
    "for row in recommended_coffees.iterrows():\n",
    "    print(f\"{i}. {row[1]['title']} by {row[1]['roaster']}\")\n",
    "    i += 1"
   ]
  },
  {
   "cell_type": "markdown",
   "metadata": {},
   "source": [
    "## Additional data can be easily requested"
   ]
  },
  {
   "cell_type": "code",
   "execution_count": 102,
   "metadata": {},
   "outputs": [
    {
     "name": "stdout",
     "output_type": "stream",
     "text": [
      "Here is some information about 'Ethiopia Guji Hambela Wate Natural G1' by Samlin Coffee:\n",
      "title: Ethiopia Guji Hambela Wate Natural G1\n",
      "rating: 92.0\n",
      "acidity_structure: 8.0\n",
      "aftertaste: 8.0\n",
      "aroma: 9.0\n",
      "body: 8.0\n",
      "flavor: 9.0\n",
      "with_milk: nan\n",
      "agtron: 57/75\n",
      "blind_assessment: High-toned, crisply sweet-tart. Dried plum, baking chocolate, rhododendron, cedar, almond in aroma and cup. Sweetly tart with brisk acidity; velvety mouthfeel. The fruit-toned finish is supported by notes of cedar and baking chocolate.\n",
      "bottom_line: A delicately fruit-toned natural-process Ethiopia with crisp chocolate and rich aromatic wood notes throughout the profile.\n",
      "coffee_origin: Guji Zone, Oromia Region, Southern Ethiopia\n",
      "est_price: NT $550/250 grams\n",
      "notes: Produced in the distinguished Guji growing region, nestled next to Ethiopia's better-known Yirgacheffe and Sidamo regions, largely from distinctive indigenous landrace varieties of Arabica long grown in the region. Processed by the natural method (beans are dried in the whole fruit). Samlin Coffee is a nano-roaster and coffee shop in New Taipei City, Taiwan. Visit https://www.facebook.com/samlincoffee/ for more information.\n",
      "review_date: November 2022\n",
      "roast_level: Medium-Light\n",
      "roaster: Samlin Coffee\n",
      "roaster_location: New Taipei City, Taiwan\n",
      "url: https://www.coffeereview.com/review/ethiopia-guji-hambela-wate-natural-g1/\n"
     ]
    }
   ],
   "source": [
    "coffee = recommended_coffees.iloc[0]\n",
    "print(f\"Here is some information about '{coffee['title']}' by {coffee['roaster']}:\")\n",
    "for key, value in coffee.items():\n",
    "    print(f\"{key}: {value}\")"
   ]
  }
 ],
 "metadata": {
  "kernelspec": {
   "display_name": "Python 3",
   "language": "python",
   "name": "python3"
  },
  "language_info": {
   "codemirror_mode": {
    "name": "ipython",
    "version": 3
   },
   "file_extension": ".py",
   "mimetype": "text/x-python",
   "name": "python",
   "nbconvert_exporter": "python",
   "pygments_lexer": "ipython3",
   "version": "3.9.6"
  }
 },
 "nbformat": 4,
 "nbformat_minor": 2
}
